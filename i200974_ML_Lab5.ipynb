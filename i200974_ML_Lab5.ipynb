{
 "cells": [
  {
   "cell_type": "code",
   "execution_count": null,
   "id": "2d634e02",
   "metadata": {},
   "outputs": [],
   "source": [
    "#ayesha zaheer\n",
    "#AI-K\n",
    "# lab05"
   ]
  },
  {
   "cell_type": "code",
   "execution_count": 54,
   "id": "77236649",
   "metadata": {},
   "outputs": [],
   "source": [
    "import numpy as np\n",
    "import pandas as pd\n",
    "import math\n"
   ]
  },
  {
   "cell_type": "code",
   "execution_count": 66,
   "id": "d630f444",
   "metadata": {},
   "outputs": [
    {
     "name": "stdout",
     "output_type": "stream",
     "text": [
      "['WWW', 'WWR', 'WWB', 'WRW', 'WRR', 'WRB', 'WBW', 'WBR', 'WBB', 'RWW', 'RWR', 'RWB', 'RRW', 'RRR', 'RRB', 'RBW', 'RBR', 'RBB', 'BWW', 'BWR', 'BWB', 'BRW', 'BRR', 'BRB', 'BBW', 'BBR', 'BBB']\n",
      "['WWR', 'WRW', 'WRB', 'WBR', 'RWW', 'RWB', 'RRR', 'RBW', 'RBB', 'BWR', 'BRW', 'BRB', 'BBR']\n"
     ]
    }
   ],
   "source": [
    "#task1\n",
    "array_1 = ['W','R','B']\n",
    "var = \"\"\n",
    "prob_array = []\n",
    "for v in array_1:\n",
    "    var = \"\"\n",
    "    var = var + v\n",
    "    array_2 = var\n",
    "    \n",
    "    for j in array_1:\n",
    "        var = array_2\n",
    "        var += j\n",
    "        array_3 = var\n",
    "        \n",
    "        for k in array_1:\n",
    "            var = array_3\n",
    "            var = var + k\n",
    "            prob_array.append(var)\n",
    "print(prob_array)\n",
    "\n",
    "for v in prob_array:\n",
    "    i = \"\"\n",
    "    j = \"\"\n",
    "    k = \"\"\n",
    "    i = v[0]\n",
    "    j = v[1]\n",
    "    k = v[-1]\n",
    "    if((i==j) or (i==k) or (j==k)):\n",
    "        prob_array.remove(v)\n",
    "        \n",
    "print(prob_array)"
   ]
  },
  {
   "cell_type": "code",
   "execution_count": 71,
   "id": "30cbde23",
   "metadata": {},
   "outputs": [
    {
     "name": "stdout",
     "output_type": "stream",
     "text": [
      "['WWR', 'WRW', 'WRB', 'WBR', 'RWW', 'RWB', 'RRR', 'RBW', 'RBB', 'BWR', 'BRW', 'BRB', 'BBR']\n",
      "[[2, 1, 0], [2, 1, 0], [1, 1, 1], [1, 1, 1], [2, 1, 0], [1, 1, 1], [0, 3, 0], [1, 1, 1], [0, 1, 2], [1, 1, 1], [1, 1, 1], [0, 1, 2], [0, 1, 2]]\n",
      "[0.13186813186813187, 0.13186813186813187, 0.26373626373626374, 0.26373626373626374, 0.13186813186813187, 0.26373626373626374, 0.008791208791208791, 0.26373626373626374, 0.08791208791208792, 0.26373626373626374, 0.26373626373626374, 0.08791208791208792, 0.08791208791208792]\n",
      "1\n",
      "Optimal Color Scheme of the Balls: \n",
      "WRB\n"
     ]
    }
   ],
   "source": [
    "def ffacto(var):\n",
    "    ffacorical = 1  \n",
    "    while(var > 0):\n",
    "        ffacorical = ffacorical*var\n",
    "        var = var - 1\n",
    "    return ffacorical\n",
    "\n",
    "def ncr(n, r):\n",
    "    n1 = ffacto(n)\n",
    "    r1 = ffacto(r)\n",
    "    nr = ffacto(n-r)\n",
    "    ncr= r1*nr\n",
    "    ncr = int(n1/(ncr))\n",
    "    return ncr\n",
    "\n",
    "var = ncr(15,3)\n",
    "\n",
    "stringg_1 = []\n",
    "stringg_2 = []\n",
    "length=len(prob_array)\n",
    "\n",
    "for i in range(0,length):\n",
    "    white = 0\n",
    "    red = 0\n",
    "    blue = 0\n",
    "    \n",
    "    stringg_1.append(prob_array[i])\n",
    "    for j in range(0,3):\n",
    "        if(prob_array[i][j] == 'W'):\n",
    "            \n",
    "            white= white+ 1\n",
    "        elif(prob_array[i][j] == 'R'):\n",
    "            \n",
    "            red = red+ 1\n",
    "        elif(prob_array[i][j] == 'B'):\n",
    "            \n",
    "            blue =blue+ 1\n",
    "    array = ([white,red,blue])\n",
    "    stringg_2.append(array)\n",
    "print(stringg_1)\n",
    "print(stringg_2)\n",
    "\n",
    "prob = []\n",
    "\n",
    "length=len(stringg_2)\n",
    "for i in range(0,length):\n",
    "    white = stringg_2[i][0]\n",
    "    red = stringg_2[i][1]\n",
    "    blue = stringg_2[i][2]\n",
    "    combo_1 = ncr(6,white)\n",
    "    combo_2 = ncr(4,red)\n",
    "    combo_3 = ncr(5,blue)\n",
    "    p = (combo_1*combo_2*combo_3)/var\n",
    "    prob.append(p)\n",
    "print(prob)\n",
    "\n",
    "maximum = max(prob)\n",
    "maxi = prob.index(maximum)\n",
    "print(maxi)\n",
    "\n",
    "print(\"Optimal Color Scheme of the Balls: \")\n",
    "print(stringg_1[maxi])"
   ]
  },
  {
   "cell_type": "code",
   "execution_count": 77,
   "id": "db7830c6",
   "metadata": {},
   "outputs": [
    {
     "name": "stdout",
     "output_type": "stream",
     "text": [
      "8 inch pizza's area : \n",
      "50.27\n",
      "2 5-inch pizza's area is:\n",
      "39.27\n",
      "not beneficial to buy two 5-inch pizzas instead because the area is less for the same rate.\n"
     ]
    }
   ],
   "source": [
    "#bonus task \n",
    "\n",
    "inches_8 = 3.141592653 *(4**2) #r=4\n",
    "print(\"8 inch pizza's area : \")\n",
    "v1=round(inches_8,2)\n",
    "print(v1)\n",
    "inches_5 = 3.141592653* ((5/2)**2)\n",
    "print(\"2 5-inch pizza's area is:\")\n",
    "v2=round(inches_5*2,2)\n",
    "print(v2)\n",
    "\n",
    "print(\"not beneficial to buy two 5-inch pizzas instead because the area is less for the same rate.\")"
   ]
  },
  {
   "cell_type": "code",
   "execution_count": null,
   "id": "b60e8e61",
   "metadata": {},
   "outputs": [],
   "source": []
  },
  {
   "cell_type": "code",
   "execution_count": null,
   "id": "14758387",
   "metadata": {},
   "outputs": [],
   "source": []
  }
 ],
 "metadata": {
  "kernelspec": {
   "display_name": "Python 3 (ipykernel)",
   "language": "python",
   "name": "python3"
  },
  "language_info": {
   "codemirror_mode": {
    "name": "ipython",
    "version": 3
   },
   "file_extension": ".py",
   "mimetype": "text/x-python",
   "name": "python",
   "nbconvert_exporter": "python",
   "pygments_lexer": "ipython3",
   "version": "3.9.7"
  }
 },
 "nbformat": 4,
 "nbformat_minor": 5
}
